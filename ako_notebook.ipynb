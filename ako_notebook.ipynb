{
 "cells": [
  {
   "cell_type": "markdown",
   "metadata": {},
   "source": [
    "**This notebook considers one of the four datasets named 'C18 positive'. Severeal preprocessing steps e.g., missing value impuation, interquartile range filter and data standardization. Finally after assuming the data distribution, we applied aggregate knockoff filter to the preprocessed data**"
   ]
  },
  {
   "cell_type": "code",
   "execution_count": 28,
   "metadata": {},
   "outputs": [],
   "source": [
    "import numpy as np\n",
    "import pandas as pd\n",
    "import matplotlib.pyplot as plt\n",
    "import sys\n",
    "import warnings\n",
    "import var_select\n",
    "from sklearn.preprocessing import StandardScaler\n",
    "from scipy.stats import iqr\n",
    "from joblib import Parallel, delayed\n",
    "from utils_aggregate import (generate_seedlist, empirical_p_value, quantile_aggregation, fdr_threshold)\n",
    "from sklearn.impute import KNNImputer\n",
    "from create_gaussian_knockoff import(estimating_distribution,gaussian_knockoff_generation )\n",
    "from knockoff_test_statistics import rf_oob_score\n",
    "from pre_processing import(missing_value_imputation, remove_features_iqr)\n",
    "warnings.filterwarnings(\"ignore\")\n",
    "np.set_printoptions(threshold=sys.maxsize)"
   ]
  },
  {
   "cell_type": "markdown",
   "metadata": {},
   "source": [
    "**Read the data and find the different diagnos or stages and <br>create corresponding numerical label**"
   ]
  },
  {
   "cell_type": "code",
   "execution_count": 29,
   "metadata": {},
   "outputs": [
    {
     "name": "stdout",
     "output_type": "stream",
     "text": [
      "unique diagnosis Index(['cd', 'uc', 'nonibd'], dtype='object') \n",
      " Metabolite X Samples:  (91, 546)\n"
     ]
    }
   ],
   "source": [
    "df =  pd.read_csv('2nd_Round_Research\\C18 negative.txt', sep='\\t', dtype = object)\n",
    "df = df.rename(columns = df.iloc[0])\n",
    "df = df.drop(df.index[0]).reset_index(drop = True)\n",
    "df.columns = df.columns.str.replace(' ', '').str.lower()\n",
    "diagnose = df.columns[1:].str.split('|').str[0]\n",
    "diagnose= diagnose.str.split(':').str[1]\n",
    "_, label = np.unique(diagnose, return_inverse=True)\n",
    "df = df.set_index('factors')\n",
    "print('unique diagnosis', diagnose.unique(), '\\n Metabolite X Samples: ' , df.shape)"
   ]
  },
  {
   "cell_type": "markdown",
   "metadata": {},
   "source": [
    "**Discovering missing value percentage**"
   ]
  },
  {
   "cell_type": "code",
   "execution_count": 30,
   "metadata": {},
   "outputs": [
    {
     "name": "stdout",
     "output_type": "stream",
     "text": [
      "Total percentage of missing values before removing: 0.074 \n",
      "\n"
     ]
    },
    {
     "data": {
      "image/png": "[encoded data removed]",
      "text/plain": [
       "<Figure size 576x432 with 1 Axes>"
      ]
     },
     "metadata": {
      "needs_background": "light"
     },
     "output_type": "display_data"
    }
   ],
   "source": [
    "missing_values =  df.apply(lambda x: x.count(), axis=1)\n",
    "plt.figure(figsize=(8,6))\n",
    "result = plt.hist(missing_values, bins=20, color='c', edgecolor='k', alpha=0.65)\n",
    "plt.xlabel('Samples', fontsize = 10)\n",
    "plt.ylabel('Missing values', fontsize = 10)\n",
    "plt.title('C8_positive', fontsize = 12)\n",
    "plt.axvline(missing_values.mean(), color='k', linestyle='dashed', linewidth=1)\n",
    "min_ylim, max_ylim = plt.ylim()\n",
    "plt.text(missing_values.mean()*1.1, max_ylim*0.9, 'Mean: {:.2f}'.format(missing_values.mean()))\n",
    "missing_percentage_before = df.isnull().sum().sum()/ (df.shape[0] * df.shape[1])\n",
    "print('Total percentage of missing values before removing: %.3f' %missing_percentage_before,'\\n')"
   ]
  },
  {
   "cell_type": "markdown",
   "metadata": {},
   "source": [
    "**Removing metabolites based on t% rule**"
   ]
  },
  {
   "cell_type": "code",
   "execution_count": 31,
   "metadata": {},
   "outputs": [
    {
     "name": "stdout",
     "output_type": "stream",
     "text": [
      "After: (Samples X Metabolites):  (546, 91) \t\t percentage of missing values: 0.074 \n",
      "\n"
     ]
    }
   ],
   "source": [
    "T = [0, 0.6, 0.7, 0.8, 1]\n",
    "data =  df.copy().T\n",
    "no_of_samples =  data.shape[0]\n",
    "thresh = int(no_of_samples * T[0])\n",
    "data = data.dropna(axis = 1, thresh = thresh)#keeping the metabolites which has atleast 70% percenet filled values\n",
    "missing_percentage_after = data.isnull().sum().sum()/ (data.shape[0] * data.shape[1])\n",
    "print('After: (Samples X Metabolites): ' , data.shape, '\\t\\t percentage of missing values: %.3f'\n",
    "      %missing_percentage_after,'\\n')"
   ]
  },
  {
   "cell_type": "markdown",
   "metadata": {},
   "source": [
    "**Missing value imputation**"
   ]
  },
  {
   "cell_type": "code",
   "execution_count": 32,
   "metadata": {},
   "outputs": [
    {
     "name": "stdout",
     "output_type": "stream",
     "text": [
      "After: (Samples X Metabolites):  (546, 91)\n"
     ]
    }
   ],
   "source": [
    "imputed_data = missing_value_imputation(data)\n",
    "print('After: (Samples X Metabolites): ' , data.shape)"
   ]
  },
  {
   "cell_type": "markdown",
   "metadata": {},
   "source": [
    "**Applying interquartile range filter if necessary. Though it was avoided since the dataset is not very large**"
   ]
  },
  {
   "cell_type": "code",
   "execution_count": 33,
   "metadata": {},
   "outputs": [
    {
     "name": "stdout",
     "output_type": "stream",
     "text": [
      "No need to apply interquartile range filter\n",
      "Removed 0 metabolites with least interquartile range\n",
      "After: (Samples X Metabolites):  (546, 91)\n"
     ]
    }
   ],
   "source": [
    "filtered_data = remove_features_iqr(imputed_data)\n",
    "print('After: (Samples X Metabolites): ' , filtered_data.shape)"
   ]
  },
  {
   "cell_type": "markdown",
   "metadata": {},
   "source": [
    "**Data Standardization**"
   ]
  },
  {
   "cell_type": "code",
   "execution_count": 34,
   "metadata": {},
   "outputs": [],
   "source": [
    "standard_data = filtered_data.copy()\n",
    "standard_data.iloc[:, :] = StandardScaler().fit_transform(standard_data)"
   ]
  },
  {
   "cell_type": "markdown",
   "metadata": {},
   "source": [
    "**Estimation the distribution**"
   ]
  },
  {
   "cell_type": "code",
   "execution_count": 35,
   "metadata": {},
   "outputs": [],
   "source": [
    "X = standard_data.values\n",
    "mu, Sigma = estimating_distribution(X, shrink = False, cov_estimator='ledoit_wolf')"
   ]
  },
  {
   "cell_type": "markdown",
   "metadata": {},
   "source": [
    "**Applying Aggregate Knockoff Filtering**"
   ]
  },
  {
   "cell_type": "code",
   "execution_count": 36,
   "metadata": {},
   "outputs": [],
   "source": [
    "no_bootstraps = 15  \n",
    "no_jobs = 2 \n",
    "seed_list = generate_seedlist(no_bootstraps, random_state = None)\n",
    "\n",
    "X_knockoff = Parallel(n_jobs = no_jobs, prefer=\"threads\")(delayed(gaussian_knockoff_generation)\n",
    "                                                          (X, mu, Sigma, method = 'equi') for seed in seed_list)\n",
    "\n",
    "r =Parallel(n_jobs=no_jobs, prefer=\"threads\")(delayed(rf_oob_score)(X, X_knockoff[i], label) \n",
    "                                              for i in range(no_bootstraps))\n",
    "Z, W = zip(*r) "
   ]
  },
  {
   "cell_type": "code",
   "execution_count": 37,
   "metadata": {},
   "outputs": [],
   "source": [
    "p_vals = np.array([empirical_p_value(W[i], offset = 0) for i in range(no_bootstraps)])\n",
    "aggregated_pvals = quantile_aggregation(p_vals, gamma = 0.4, gamma_min = 0.05, adaptive = True)\n",
    "threshold = fdr_threshold(aggregated_pvals, fdr = 0.1, method = 'bhq')\n",
    "S = np.where(aggregated_pvals <= threshold)[0]\n",
    "meta_list_aggreagate = list(standard_data.columns[S]) "
   ]
  },
  {
   "cell_type": "code",
   "execution_count": 38,
   "metadata": {},
   "outputs": [
    {
     "data": {
      "text/plain": [
       "['1.2.3.4-tetrahydro-beta-carboline-1.3-dicarboxylate',\n",
       " '12.13-diHOME',\n",
       " '4-hydroxystyrene',\n",
       " '9.10-diHOME',\n",
       " 'adrenate',\n",
       " 'arachidonate',\n",
       " 'caproate',\n",
       " 'docosahexaenoate',\n",
       " 'docosapentaenoate',\n",
       " 'dodecanedioate',\n",
       " 'eicosadienoate',\n",
       " 'eicosatrienoate',\n",
       " 'hydrocinnamate',\n",
       " 'olmesartan',\n",
       " 'phenyllactate',\n",
       " 'p-hydroxyphenylacetate',\n",
       " 'porphobilinogen',\n",
       " 'saccharin',\n",
       " 'salicylate']"
      ]
     },
     "execution_count": 38,
     "metadata": {},
     "output_type": "execute_result"
    }
   ],
   "source": [
    "meta_list_aggreagate"
   ]
  },
  {
   "cell_type": "code",
   "execution_count": null,
   "metadata": {},
   "outputs": [],
   "source": []
  }
 ],
 "metadata": {
  "kernelspec": {
   "display_name": "Python 3",
   "language": "python",
   "name": "python3"
  },
  "language_info": {
   "codemirror_mode": {
    "name": "ipython",
    "version": 3
   },
   "file_extension": ".py",
   "mimetype": "text/x-python",
   "name": "python",
   "nbconvert_exporter": "python",
   "pygments_lexer": "ipython3",
   "version": "3.8.3"
  }
 },
 "nbformat": 4,
 "nbformat_minor": 4
}
